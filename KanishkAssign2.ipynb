{
 "cells": [
  {
   "cell_type": "code",
   "execution_count": 1,
   "id": "4d3ad3c8-0d04-4bc7-b0b4-5effa4fb4b47",
   "metadata": {},
   "outputs": [
    {
     "data": {
      "text/plain": [
       "\" ii) This is a Multi Line comment which is used to comment out multiple lines using Triple single inverted comma's or Triple Double inverted comma's\\n    and unlike single line comment it doesn't needed to be commented for every line and it can be easily changed to a string.\""
      ]
     },
     "execution_count": 1,
     "metadata": {},
     "output_type": "execute_result"
    }
   ],
   "source": [
    "# Ans1 --> Comments are basically the line which are not executed by the interpreter and it helps in understanding the code.\n",
    "\n",
    "# Comments are of 2 types: i) SINGLE LINE ii) MULTI LINE\n",
    "# i) This is single line in which each line is to be commented out by using \"ctrl + /\" or by puttiing a hash sign(#)\n",
    "''' ii) This is a Multi Line comment which is used to comment out multiple lines using Triple single inverted comma's or Triple Double inverted comma's\n",
    "    and unlike single line comment it doesn't needed to be commented for every line and it can be easily changed to a string.'''\n",
    "\n"
   ]
  },
  {
   "cell_type": "code",
   "execution_count": 1,
   "id": "130fa56b-b796-4698-be18-ab1cd1f1adba",
   "metadata": {},
   "outputs": [],
   "source": [
    "# Ans2 --> Variables are the containers in which the value is stored. \n",
    "# Python has no particular command of declaring variable, whenever we'll assign a value a variable is created.In python we can also change\n",
    "# the type of variable.The variable should not start with a special character. Assign a name to the variable (such as x or myName).\n",
    "# Use the equal sign to assign a value to the variable."
   ]
  },
  {
   "cell_type": "code",
   "execution_count": 3,
   "id": "6209764c-dca4-44c6-bfca-9b9dfad93a1f",
   "metadata": {},
   "outputs": [],
   "source": [
    "# Ans 3 --> To convert one data type to another typecasting is used.\n",
    "#     eg. \n",
    "a='89'"
   ]
  },
  {
   "cell_type": "code",
   "execution_count": 4,
   "id": "3d914307-5d89-4590-a3da-a66545ab8c77",
   "metadata": {},
   "outputs": [
    {
     "data": {
      "text/plain": [
       "str"
      ]
     },
     "execution_count": 4,
     "metadata": {},
     "output_type": "execute_result"
    }
   ],
   "source": [
    "type(a) #Here the data of 'a' is checked which is a string"
   ]
  },
  {
   "cell_type": "code",
   "execution_count": 5,
   "id": "46c54b7e-e66d-4e5f-99cc-126275c9aedd",
   "metadata": {},
   "outputs": [],
   "source": [
    "a=int() # Now the data type is changed"
   ]
  },
  {
   "cell_type": "code",
   "execution_count": 6,
   "id": "80534831-cfb0-4e72-bb08-c3af133c616c",
   "metadata": {},
   "outputs": [
    {
     "data": {
      "text/plain": [
       "int"
      ]
     },
     "execution_count": 6,
     "metadata": {},
     "output_type": "execute_result"
    }
   ],
   "source": [
    "type(a) #Again data type is checked and is changed to Integer."
   ]
  },
  {
   "cell_type": "code",
   "execution_count": 7,
   "id": "a18c275e-a711-42ad-a7de-c3bad959ad78",
   "metadata": {},
   "outputs": [],
   "source": [
    "# Ans 4 --> Create a Python script that is error-free and save it with the .py extension\n",
    "# Open a terminal or command prompt and navigate to the directory where your script is located or open the cmd in the same folder where file is stored.\n",
    "# Use the python or python3 command followed by the name of your script to run it, e.g. python3 myprog.py\n",
    "# Press Enter to execute your script and see the output"
   ]
  },
  {
   "cell_type": "code",
   "execution_count": 8,
   "id": "ef9e13ec-3b2e-4dfc-9870-ad66c72c60ce",
   "metadata": {},
   "outputs": [],
   "source": [
    "# Ans 5 -->\n",
    "my_list = [1, 2, 3, 4, 5]"
   ]
  },
  {
   "cell_type": "code",
   "execution_count": 11,
   "id": "acd385c3-197e-4696-8346-0889be17c02d",
   "metadata": {},
   "outputs": [],
   "source": [
    "sub_list = my_list[1:3]"
   ]
  },
  {
   "cell_type": "code",
   "execution_count": 13,
   "id": "9043c91e-9777-4d4c-a4ef-a78d4f53dc74",
   "metadata": {},
   "outputs": [
    {
     "name": "stdout",
     "output_type": "stream",
     "text": [
      "[2, 3]\n"
     ]
    }
   ],
   "source": [
    "print (sub_list)"
   ]
  },
  {
   "cell_type": "code",
   "execution_count": 14,
   "id": "c2a2faf1-5ec9-49d9-9d8c-c886084170ef",
   "metadata": {},
   "outputs": [],
   "source": [
    "# Ans 6 --> In Mathematics a Complex number is the combination of two parts onne having a real part and the other having an imaginary part.\n",
    "# Real part having a real number eg.(2,3,98) and the imaginary part having a number with 'i' attached to it eg(3i, 8i).\n",
    "# Thus a coplex number looks like 2+3i, 8+ 98i\n",
    "# But in python imaginary number is attached with 'j' eg. 8+9j, 12+ j."
   ]
  },
  {
   "cell_type": "code",
   "execution_count": 15,
   "id": "bc454b4d-c17e-4fda-8f1f-3780c1462672",
   "metadata": {},
   "outputs": [],
   "source": [
    "# Ans 7 --> Firstly, write the variable name i.e Age and followed by '=' and the value '25' which is to be assigned to the variable.\n",
    "# The following is done below"
   ]
  },
  {
   "cell_type": "code",
   "execution_count": 16,
   "id": "2a3ee0b4-ce16-445f-ae99-976772d6c101",
   "metadata": {},
   "outputs": [],
   "source": [
    "Age = 25"
   ]
  },
  {
   "cell_type": "code",
   "execution_count": 17,
   "id": "5dd3080b-f627-4f4d-90dd-b3709835427a",
   "metadata": {},
   "outputs": [
    {
     "name": "stdout",
     "output_type": "stream",
     "text": [
      "25\n"
     ]
    }
   ],
   "source": [
    "print(Age)"
   ]
  },
  {
   "cell_type": "code",
   "execution_count": 18,
   "id": "1805f48e-ed38-44e3-b72e-d0e0bd9f627b",
   "metadata": {},
   "outputs": [
    {
     "data": {
      "text/plain": [
       "int"
      ]
     },
     "execution_count": 18,
     "metadata": {},
     "output_type": "execute_result"
    }
   ],
   "source": [
    "type(Age)"
   ]
  },
  {
   "cell_type": "code",
   "execution_count": 19,
   "id": "bbb1cf01-cb80-4db3-bb59-8ed80e27634f",
   "metadata": {},
   "outputs": [],
   "source": [
    "# Ans 8 -->\n",
    "price = 9.99"
   ]
  },
  {
   "cell_type": "code",
   "execution_count": 20,
   "id": "31c69545-4bd6-4672-8b06-768ba4f5c50e",
   "metadata": {},
   "outputs": [
    {
     "data": {
      "text/plain": [
       "float"
      ]
     },
     "execution_count": 20,
     "metadata": {},
     "output_type": "execute_result"
    }
   ],
   "source": [
    "type(price)"
   ]
  },
  {
   "cell_type": "code",
   "execution_count": 21,
   "id": "e5b6932b-0859-4eeb-aab4-e018a0be68bc",
   "metadata": {},
   "outputs": [],
   "source": [
    "# Ans 9 -->\n",
    "Name = \"KANISHK BHATT\""
   ]
  },
  {
   "cell_type": "code",
   "execution_count": 22,
   "id": "544a9e86-f5db-43b3-a74c-bff56324a668",
   "metadata": {},
   "outputs": [
    {
     "data": {
      "text/plain": [
       "str"
      ]
     },
     "execution_count": 22,
     "metadata": {},
     "output_type": "execute_result"
    }
   ],
   "source": [
    "type(Name)"
   ]
  },
  {
   "cell_type": "code",
   "execution_count": 23,
   "id": "95fcda7f-8dcf-4f45-8978-f17adaa973db",
   "metadata": {},
   "outputs": [
    {
     "name": "stdout",
     "output_type": "stream",
     "text": [
      "KANISHK BHATT\n"
     ]
    }
   ],
   "source": [
    "print(Name)"
   ]
  },
  {
   "cell_type": "code",
   "execution_count": 26,
   "id": "4388a0a9-29d9-4730-989b-ffd55ea9b973",
   "metadata": {},
   "outputs": [],
   "source": [
    "# Ans 10 -->\n",
    "s = \"Hello, World!\""
   ]
  },
  {
   "cell_type": "code",
   "execution_count": 27,
   "id": "b598370a-2b8a-4806-9cce-988398dc0f7a",
   "metadata": {},
   "outputs": [
    {
     "data": {
      "text/plain": [
       "'World'"
      ]
     },
     "execution_count": 27,
     "metadata": {},
     "output_type": "execute_result"
    }
   ],
   "source": [
    "s[7:12]"
   ]
  },
  {
   "cell_type": "code",
   "execution_count": 28,
   "id": "54cfbb0a-acb4-4875-9607-9308e4957a58",
   "metadata": {},
   "outputs": [],
   "source": [
    "# Ans 11-->\n",
    "is_student = True"
   ]
  },
  {
   "cell_type": "code",
   "execution_count": 29,
   "id": "9d59fc8e-8111-464a-8425-2f2a22a446bb",
   "metadata": {},
   "outputs": [
    {
     "name": "stdout",
     "output_type": "stream",
     "text": [
      "True\n"
     ]
    }
   ],
   "source": [
    "print(is_student)"
   ]
  },
  {
   "cell_type": "code",
   "execution_count": 30,
   "id": "87d7f9b7-78f6-4860-ae9e-f10e16178b00",
   "metadata": {},
   "outputs": [
    {
     "data": {
      "text/plain": [
       "bool"
      ]
     },
     "execution_count": 30,
     "metadata": {},
     "output_type": "execute_result"
    }
   ],
   "source": [
    "type(is_student)"
   ]
  },
  {
   "cell_type": "code",
   "execution_count": null,
   "id": "77496b47-7051-4aff-b8f5-cec6a5088776",
   "metadata": {},
   "outputs": [],
   "source": []
  }
 ],
 "metadata": {
  "kernelspec": {
   "display_name": "Python 3 (ipykernel)",
   "language": "python",
   "name": "python3"
  },
  "language_info": {
   "codemirror_mode": {
    "name": "ipython",
    "version": 3
   },
   "file_extension": ".py",
   "mimetype": "text/x-python",
   "name": "python",
   "nbconvert_exporter": "python",
   "pygments_lexer": "ipython3",
   "version": "3.10.8"
  }
 },
 "nbformat": 4,
 "nbformat_minor": 5
}
